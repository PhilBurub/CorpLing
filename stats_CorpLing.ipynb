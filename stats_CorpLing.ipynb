{
 "cells": [
  {
   "cell_type": "code",
   "execution_count": 1,
   "id": "e3ead23d",
   "metadata": {},
   "outputs": [],
   "source": [
    "import numpy as np\n",
    "import os"
   ]
  },
  {
   "cell_type": "markdown",
   "id": "ba1be9f8",
   "metadata": {},
   "source": [
    "##### 1. Собираю леммы по текстам"
   ]
  },
  {
   "cell_type": "code",
   "execution_count": 2,
   "id": "644b0d34",
   "metadata": {},
   "outputs": [],
   "source": [
    "doyle_files = []\n",
    "for file in os.listdir('Doyle_lemmatized'):\n",
    "    with open ('Doyle_lemmatized/' + file, 'r') as f:\n",
    "        newfile = np.array([i.split('\\t')[1].strip() for i in f.readlines()])\n",
    "        doyle_files.append(newfile)"
   ]
  },
  {
   "cell_type": "code",
   "execution_count": 3,
   "id": "6c9b32dd",
   "metadata": {},
   "outputs": [],
   "source": [
    "dickens_files = []\n",
    "for file in os.listdir('Dickens_lemmatized'):\n",
    "    with open ('Dickens_lemmatized/' + file, 'r') as f:\n",
    "        newfile = np.array([i.split('\\t')[1].strip() for i in f.readlines()])\n",
    "        dickens_files.append(newfile)"
   ]
  },
  {
   "cell_type": "markdown",
   "id": "5efad11f",
   "metadata": {},
   "source": [
    "##### 2. Считаю, сколько раз слово встретилось в каждом тексте и длину каждого текста"
   ]
  },
  {
   "cell_type": "code",
   "execution_count": 4,
   "id": "d00ddfc0",
   "metadata": {},
   "outputs": [
    {
     "name": "stdout",
     "output_type": "stream",
     "text": [
      "Слово встретилось 19 раз, в корпусе Doyle 3012521 токенов.\n"
     ]
    }
   ],
   "source": [
    "doyle_word = np.array([np.sum(i == 'forgiveness') for i in doyle_files])\n",
    "doyle_len = np.array([len(i) for i in doyle_files])\n",
    "print(f'Слово встретилось {sum(doyle_word)} раз, в корпусе Doyle {sum(doyle_len)} токенов.')"
   ]
  },
  {
   "cell_type": "code",
   "execution_count": 5,
   "id": "7f0b52d4",
   "metadata": {},
   "outputs": [
    {
     "name": "stdout",
     "output_type": "stream",
     "text": [
      "Слово встретилось 57 раз, в корпусе Dickens 4216199 токенов.\n"
     ]
    }
   ],
   "source": [
    "dickens_word = np.array([np.sum(i == 'forgiveness') for i in dickens_files])\n",
    "dickens_len = np.array([len(i) for i in dickens_files])\n",
    "print(f'Слово встретилось {sum(dickens_word)} раз, в корпусе Dickens {sum(dickens_len)} токенов.')"
   ]
  },
  {
   "cell_type": "markdown",
   "id": "a78585bb",
   "metadata": {},
   "source": [
    "##### 3. Считаю относительную частоту в каждом тексте и в общем"
   ]
  },
  {
   "cell_type": "code",
   "execution_count": 14,
   "id": "f1b9e41d",
   "metadata": {},
   "outputs": [
    {
     "name": "stdout",
     "output_type": "stream",
     "text": [
      "В корпусе Doyle 53 частей, из них в 14 встречается слово\n",
      "'forgiveness', общая relative frequency (per 100k) равна 0.6307009976030042.\n"
     ]
    }
   ],
   "source": [
    "doyle_rfreq = (doyle_word / doyle_len) * 100000\n",
    "doyle_mean = (sum(doyle_word) / sum(doyle_len)) * 100000\n",
    "print(f'''В корпусе Doyle {len(doyle_rfreq)} частей, из них в {sum(doyle_rfreq > 0)} встречается слово\n",
    "'forgiveness', общая relative frequency (per 100k) равна {doyle_mean}.''')"
   ]
  },
  {
   "cell_type": "code",
   "execution_count": 16,
   "id": "65ff0317",
   "metadata": {},
   "outputs": [
    {
     "name": "stdout",
     "output_type": "stream",
     "text": [
      "В корпусе Dickens 32 частей, из них в 22 встречается слово\n",
      "'forgiveness', общая relative frequency (per 100k) равна 1.3519285972981825.\n"
     ]
    }
   ],
   "source": [
    "dickens_rfreq = (dickens_word / dickens_len) * 100000\n",
    "dickens_mean = (sum(dickens_word) / sum(dickens_len)) * 100000\n",
    "print(f'''В корпусе Dickens {len(dickens_rfreq)} частей, из них в {sum(dickens_rfreq > 0)} встречается слово\n",
    "'forgiveness', общая relative frequency (per 100k) равна {dickens_mean}.''')"
   ]
  },
  {
   "cell_type": "markdown",
   "id": "1daeab50",
   "metadata": {},
   "source": [
    "##### 4. Считаю стандартное отклонение"
   ]
  },
  {
   "cell_type": "code",
   "execution_count": 8,
   "id": "f0c89ec2",
   "metadata": {},
   "outputs": [
    {
     "name": "stdout",
     "output_type": "stream",
     "text": [
      "Стандартное отклонение в корпусе Doyle составляет 0.8056546346100746, а в корпусе Dickens 1.3556677256082867\n"
     ]
    }
   ],
   "source": [
    "doyle_std = np.sqrt(sum((doyle_rfreq - doyle_mean)**2) / len(doyle_rfreq))\n",
    "dickens_std = np.sqrt(sum((dickens_rfreq - dickens_mean)**2) / len(dickens_rfreq))\n",
    "print(f'Стандартное отклонение в корпусе Doyle составляет {doyle_std}, а в корпусе Dickens {dickens_std}')"
   ]
  },
  {
   "cell_type": "code",
   "execution_count": 12,
   "id": "4c59a76c",
   "metadata": {},
   "outputs": [
    {
     "data": {
      "text/plain": [
       "0.7826550541618178"
      ]
     },
     "execution_count": 12,
     "metadata": {},
     "output_type": "execute_result"
    }
   ],
   "source": [
    "np.std(doyle_rfreq)"
   ]
  },
  {
   "cell_type": "markdown",
   "id": "071db734",
   "metadata": {},
   "source": [
    "##### 5. Считаю коэффициент вариации"
   ]
  },
  {
   "cell_type": "code",
   "execution_count": 9,
   "id": "986a125a",
   "metadata": {
    "scrolled": true
   },
   "outputs": [
    {
     "name": "stdout",
     "output_type": "stream",
     "text": [
      "Коэффициент вариации в корпусе Doyle составляет 1.2773955292158825, а в корпусе Dickens 1.0027657735161286\n"
     ]
    }
   ],
   "source": [
    "doyle_cvar = doyle_std / doyle_mean\n",
    "dickens_cvar = dickens_std / dickens_mean\n",
    "print(f'Коэффициент вариации в корпусе Doyle составляет {doyle_cvar}, а в корпусе Dickens {dickens_cvar}')"
   ]
  },
  {
   "cell_type": "code",
   "execution_count": 10,
   "id": "a0f5567c",
   "metadata": {},
   "outputs": [
    {
     "name": "stdout",
     "output_type": "stream",
     "text": [
      "Коэффициент вариации % в корпусе Doyle составляет 17.714288767832013, а в корпусе Dickens 18.010204961447684\n"
     ]
    }
   ],
   "source": [
    "doyle_cvar_pcent = (doyle_cvar / np.sqrt(len(doyle_rfreq) - 1)) * 100\n",
    "dickens_cvar_pcent = (dickens_cvar / np.sqrt(len(dickens_rfreq) - 1)) * 100\n",
    "print(f'Коэффициент вариации % в корпусе Doyle составляет {doyle_cvar_pcent}, а в корпусе Dickens {dickens_cvar_pcent}')"
   ]
  },
  {
   "cell_type": "markdown",
   "id": "a5f02a72",
   "metadata": {},
   "source": [
    "##### 6. Считаю Juilland’s D"
   ]
  },
  {
   "cell_type": "code",
   "execution_count": 11,
   "id": "f6408c5a",
   "metadata": {},
   "outputs": [
    {
     "name": "stdout",
     "output_type": "stream",
     "text": [
      "Juilland’s D в корпусе Doyle составляет 0.975434701361233, а в корпусе Dickens 0.9676527169833506\n"
     ]
    }
   ],
   "source": [
    "doyle_jD = 1 - (doyle_cvar / (len(doyle_rfreq) - 1))\n",
    "dickens_jD = 1 - (dickens_cvar / (len(dickens_rfreq) - 1))\n",
    "print(f'Juilland’s D в корпусе Doyle составляет {doyle_jD}, а в корпусе Dickens {dickens_jD}')"
   ]
  }
 ],
 "metadata": {
  "kernelspec": {
   "display_name": "Python 3",
   "language": "python",
   "name": "python3"
  },
  "language_info": {
   "codemirror_mode": {
    "name": "ipython",
    "version": 3
   },
   "file_extension": ".py",
   "mimetype": "text/x-python",
   "name": "python",
   "nbconvert_exporter": "python",
   "pygments_lexer": "ipython3",
   "version": "3.8.8"
  }
 },
 "nbformat": 4,
 "nbformat_minor": 5
}
